{
 "cells": [
  {
   "cell_type": "code",
   "execution_count": 1,
   "metadata": {
    "ExecuteTime": {
     "end_time": "2020-10-02T13:08:26.629874Z",
     "start_time": "2020-10-02T13:08:20.697527Z"
    },
    "scrolled": false
   },
   "outputs": [],
   "source": [
    "from tensorflow.keras.models import Sequential\n",
    "from tensorflow.keras.layers import Activation, Dense\n",
    "from tensorflow.keras.optimizers import Adam\n",
    "from tensorflow.keras.losses import SparseCategoricalCrossentropy\n",
    "import pandas as pd\n",
    "import numpy as np"
   ]
  },
  {
   "cell_type": "code",
   "execution_count": 2,
   "metadata": {
    "ExecuteTime": {
     "end_time": "2020-10-02T13:08:26.717158Z",
     "start_time": "2020-10-02T13:08:26.633572Z"
    },
    "scrolled": false
   },
   "outputs": [],
   "source": [
    "df = pd.read_csv('dataset_2.csv')"
   ]
  },
  {
   "cell_type": "markdown",
   "metadata": {},
   "source": [
    "## Map labels to integers"
   ]
  },
  {
   "cell_type": "raw",
   "metadata": {
    "ExecuteTime": {
     "end_time": "2020-10-02T11:07:59.400232Z",
     "start_time": "2020-10-02T11:07:59.381370Z"
    },
    "scrolled": true
   },
   "source": [
    "def encode_column(col):\n",
    "    unique = col.unique()\n",
    "    map_key_val = dict(zip(unique, [i for i in range(len(unique))]))\n",
    "    return col.map(lambda x: map_key_val[x])"
   ]
  },
  {
   "cell_type": "code",
   "execution_count": 3,
   "metadata": {
    "ExecuteTime": {
     "end_time": "2020-10-02T13:08:26.729325Z",
     "start_time": "2020-10-02T13:08:26.724639Z"
    },
    "scrolled": true
   },
   "outputs": [],
   "source": [
    "def encode_column(col):\n",
    "    map_key_val = {\n",
    "        'Still': 0,\n",
    "        'Walking': 1,\n",
    "        'Car': 2,\n",
    "        'Bus': 3,\n",
    "        'Train':4\n",
    "    }\n",
    "    return col.map(lambda x: map_key_val[x])"
   ]
  },
  {
   "cell_type": "code",
   "execution_count": 4,
   "metadata": {
    "ExecuteTime": {
     "end_time": "2020-10-02T13:08:26.744969Z",
     "start_time": "2020-10-02T13:08:26.734791Z"
    }
   },
   "outputs": [],
   "source": [
    "def decode_output(num):\n",
    "    modes = ['Still', 'Walking', 'Car', 'Bus', 'Train']\n",
    "    return modes[num]"
   ]
  },
  {
   "cell_type": "code",
   "execution_count": 5,
   "metadata": {
    "ExecuteTime": {
     "end_time": "2020-10-02T13:08:26.834425Z",
     "start_time": "2020-10-02T13:08:26.751719Z"
    },
    "scrolled": true
   },
   "outputs": [],
   "source": [
    "x = df[df.columns[:-1]][:-100]\n",
    "df['target'] = encode_column(df['target'])\n",
    "y = df['target'][:-100]\n",
    "cols = len(x.columns)"
   ]
  },
  {
   "cell_type": "code",
   "execution_count": 6,
   "metadata": {
    "ExecuteTime": {
     "end_time": "2020-10-02T13:08:26.875268Z",
     "start_time": "2020-10-02T13:08:26.846086Z"
    },
    "scrolled": true
   },
   "outputs": [],
   "source": [
    "n_x = np.array(x.values)\n",
    "n_y = np.array(y.values)"
   ]
  },
  {
   "cell_type": "markdown",
   "metadata": {},
   "source": [
    "### Validation set"
   ]
  },
  {
   "cell_type": "code",
   "execution_count": 7,
   "metadata": {
    "ExecuteTime": {
     "end_time": "2020-10-02T13:08:26.929861Z",
     "start_time": "2020-10-02T13:08:26.906449Z"
    },
    "scrolled": false
   },
   "outputs": [],
   "source": [
    "test_x = df[df.columns[:-1]][-100:]\n",
    "test_y = df['target'][-100:]"
   ]
  },
  {
   "cell_type": "markdown",
   "metadata": {},
   "source": [
    "### Model options"
   ]
  },
  {
   "cell_type": "code",
   "execution_count": 8,
   "metadata": {
    "ExecuteTime": {
     "end_time": "2020-10-02T13:08:27.125232Z",
     "start_time": "2020-10-02T13:08:26.954193Z"
    },
    "scrolled": false
   },
   "outputs": [],
   "source": [
    "model = Sequential([\n",
    "    Dense(units=32, input_shape=(cols,), activation='relu'),\n",
    "    Dense(units=64, activation='relu'),\n",
    "    Dense(units=32, activation='relu'),\n",
    "    Dense(units=5, activation='softmax')\n",
    "])"
   ]
  },
  {
   "cell_type": "code",
   "execution_count": 9,
   "metadata": {
    "ExecuteTime": {
     "end_time": "2020-10-02T13:08:27.173585Z",
     "start_time": "2020-10-02T13:08:27.132998Z"
    },
    "scrolled": false
   },
   "outputs": [],
   "source": [
    "sce = SparseCategoricalCrossentropy()\n",
    "adam = Adam(learning_rate=0.0001)\n",
    "model.compile(optimizer=adam, loss=sce, metrics=['accuracy'])"
   ]
  },
  {
   "cell_type": "code",
   "execution_count": null,
   "metadata": {
    "ExecuteTime": {
     "end_time": "2020-10-02T13:11:29.176887Z",
     "start_time": "2020-10-02T13:08:27.179459Z"
    },
    "scrolled": true
   },
   "outputs": [],
   "source": [
    "model.fit(x=x,\n",
    "          y=y,\n",
    "          epochs=800,\n",
    "          batch_size=50,\n",
    "          validation_data=(test_x, test_y))"
   ]
  },
  {
   "cell_type": "code",
   "execution_count": 11,
   "metadata": {
    "ExecuteTime": {
     "end_time": "2020-10-02T13:11:29.390804Z",
     "start_time": "2020-10-02T13:11:29.184506Z"
    },
    "scrolled": true
   },
   "outputs": [
    {
     "name": "stdout",
     "output_type": "stream",
     "text": [
      "predicted: Bus | actual: Bus\n"
     ]
    }
   ],
   "source": [
    "pos = 36\n",
    "\n",
    "test = n_x[pos].reshape(1, -1)\n",
    "out = model.predict(test)\n",
    "print(f'predicted: {decode_output(np.argmax(out))} | actual: {decode_output(n_y[pos])}')"
   ]
  }
 ],
 "metadata": {
  "kernelspec": {
   "display_name": "Python 3",
   "language": "python",
   "name": "python3"
  },
  "language_info": {
   "codemirror_mode": {
    "name": "ipython",
    "version": 3
   },
   "file_extension": ".py",
   "mimetype": "text/x-python",
   "name": "python",
   "nbconvert_exporter": "python",
   "pygments_lexer": "ipython3",
   "version": "3.8.5"
  }
 },
 "nbformat": 4,
 "nbformat_minor": 4
}
