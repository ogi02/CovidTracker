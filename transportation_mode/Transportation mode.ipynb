{
 "cells": [
  {
   "cell_type": "code",
   "execution_count": 20,
   "metadata": {
    "ExecuteTime": {
     "end_time": "2020-10-03T06:25:44.100959Z",
     "start_time": "2020-10-03T06:25:44.094518Z"
    },
    "scrolled": false
   },
   "outputs": [],
   "source": [
    "import numpy as np\n",
    "import pandas as pd\n",
    "from tensorflow.keras.layers import Activation, Dense\n",
    "from tensorflow.keras.losses import SparseCategoricalCrossentropy\n",
    "from tensorflow.keras.models import Sequential\n",
    "from tensorflow.keras.optimizers import Adam\n",
    "\n",
    "from utils import decode_output, encode_column, split_dataset"
   ]
  },
  {
   "cell_type": "code",
   "execution_count": 2,
   "metadata": {
    "ExecuteTime": {
     "end_time": "2020-10-03T06:12:26.986854Z",
     "start_time": "2020-10-03T06:12:26.842433Z"
    },
    "scrolled": false
   },
   "outputs": [],
   "source": [
    "df = pd.read_csv('dataset_2.csv')"
   ]
  },
  {
   "cell_type": "code",
   "execution_count": 6,
   "metadata": {
    "ExecuteTime": {
     "end_time": "2020-10-03T06:12:27.166916Z",
     "start_time": "2020-10-03T06:12:27.138742Z"
    },
    "scrolled": false
   },
   "outputs": [],
   "source": [
    "df['target'] = encode_column(df['target'])\n",
    "cols = len(df.columns) - 1"
   ]
  },
  {
   "cell_type": "code",
   "execution_count": 7,
   "metadata": {
    "ExecuteTime": {
     "end_time": "2020-10-03T06:12:27.195692Z",
     "start_time": "2020-10-03T06:12:27.182907Z"
    },
    "scrolled": true
   },
   "outputs": [],
   "source": [
    "train, test, validate = split_dataset(df)"
   ]
  },
  {
   "cell_type": "code",
   "execution_count": 8,
   "metadata": {
    "ExecuteTime": {
     "end_time": "2020-10-03T06:12:27.215899Z",
     "start_time": "2020-10-03T06:12:27.204535Z"
    }
   },
   "outputs": [],
   "source": [
    "train_X = train[:, :-1]\n",
    "train_y = train[:, -1].astype(int)"
   ]
  },
  {
   "cell_type": "code",
   "execution_count": 9,
   "metadata": {
    "ExecuteTime": {
     "end_time": "2020-10-03T06:12:27.235140Z",
     "start_time": "2020-10-03T06:12:27.225280Z"
    }
   },
   "outputs": [],
   "source": [
    "test_X = test[:, :-1]\n",
    "test_y = test[:, -1].astype(int)"
   ]
  },
  {
   "cell_type": "code",
   "execution_count": 10,
   "metadata": {
    "ExecuteTime": {
     "end_time": "2020-10-03T06:12:27.252759Z",
     "start_time": "2020-10-03T06:12:27.244524Z"
    }
   },
   "outputs": [],
   "source": [
    "validate_X = validate[:, :-1]\n",
    "validate_y = validate[:, -1].astype(int)"
   ]
  },
  {
   "cell_type": "markdown",
   "metadata": {},
   "source": [
    "### Model options"
   ]
  },
  {
   "cell_type": "code",
   "execution_count": 11,
   "metadata": {
    "ExecuteTime": {
     "end_time": "2020-10-03T06:12:27.445488Z",
     "start_time": "2020-10-03T06:12:27.263928Z"
    }
   },
   "outputs": [],
   "source": [
    "model = Sequential([\n",
    "    Dense(units=32, input_shape=(cols,), activation='relu'),\n",
    "    Dense(units=64, activation='relu'),\n",
    "    Dense(units=32, activation='relu'),\n",
    "    Dense(units=5, activation='softmax')\n",
    "])"
   ]
  },
  {
   "cell_type": "code",
   "execution_count": 12,
   "metadata": {
    "ExecuteTime": {
     "end_time": "2020-10-03T06:12:27.492358Z",
     "start_time": "2020-10-03T06:12:27.455866Z"
    }
   },
   "outputs": [],
   "source": [
    "sce = SparseCategoricalCrossentropy()\n",
    "adam = Adam(learning_rate=0.0001)\n",
    "model.compile(optimizer=adam, loss=sce, metrics=['accuracy'])"
   ]
  },
  {
   "cell_type": "code",
   "execution_count": null,
   "metadata": {
    "ExecuteTime": {
     "end_time": "2020-10-03T06:29:37.128953Z",
     "start_time": "2020-10-03T06:27:26.134110Z"
    },
    "scrolled": false
   },
   "outputs": [],
   "source": [
    "model.fit(x=train_X,\n",
    "          y=train_y,\n",
    "          epochs=800,\n",
    "          batch_size=50,\n",
    "          validation_data=(validate_X, validate_y))"
   ]
  },
  {
   "cell_type": "code",
   "execution_count": 14,
   "metadata": {
    "ExecuteTime": {
     "end_time": "2020-10-03T06:16:16.988011Z",
     "start_time": "2020-10-03T06:16:16.825382Z"
    }
   },
   "outputs": [
    {
     "name": "stdout",
     "output_type": "stream",
     "text": [
      "predicted: Bus | actual: Bus\n"
     ]
    }
   ],
   "source": [
    "pos = 36\n",
    "\n",
    "test = test_X[pos].reshape(1, -1)\n",
    "out = model.predict(test)\n",
    "print(f'predicted: {decode_output(np.argmax(out))} | actual: {decode_output(test_y[pos])}')"
   ]
  },
  {
   "cell_type": "code",
   "execution_count": 22,
   "metadata": {
    "ExecuteTime": {
     "end_time": "2020-10-03T06:33:29.177475Z",
     "start_time": "2020-10-03T06:33:28.595983Z"
    },
    "scrolled": true
   },
   "outputs": [
    {
     "name": "stdout",
     "output_type": "stream",
     "text": [
      "INFO:tensorflow:Assets written to: model/assets\n"
     ]
    }
   ],
   "source": [
    "model.save('model')"
   ]
  },
  {
   "cell_type": "code",
   "execution_count": null,
   "metadata": {},
   "outputs": [],
   "source": []
  }
 ],
 "metadata": {
  "kernelspec": {
   "display_name": "Python 3",
   "language": "python",
   "name": "python3"
  },
  "language_info": {
   "codemirror_mode": {
    "name": "ipython",
    "version": 3
   },
   "file_extension": ".py",
   "mimetype": "text/x-python",
   "name": "python",
   "nbconvert_exporter": "python",
   "pygments_lexer": "ipython3",
   "version": "3.8.5"
  }
 },
 "nbformat": 4,
 "nbformat_minor": 4
}
