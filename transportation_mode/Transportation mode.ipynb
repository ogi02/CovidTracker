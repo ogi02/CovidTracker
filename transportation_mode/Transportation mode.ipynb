{
 "cells": [
  {
   "cell_type": "code",
   "execution_count": 31,
   "metadata": {
    "ExecuteTime": {
     "end_time": "2020-10-04T09:08:12.870185Z",
     "start_time": "2020-10-04T09:08:12.863267Z"
    },
    "scrolled": false
   },
   "outputs": [],
   "source": [
    "import numpy as np\n",
    "import pandas as pd\n",
    "from tensorflow.keras.layers import Activation, Dense, LeakyReLU\n",
    "from tensorflow.keras.losses import SparseCategoricalCrossentropy\n",
    "from tensorflow.keras.models import Sequential\n",
    "from tensorflow.keras.optimizers import Adam\n",
    "\n",
    "from utils import decode_output, encode_column, split_dataset"
   ]
  },
  {
   "cell_type": "code",
   "execution_count": 2,
   "metadata": {
    "ExecuteTime": {
     "end_time": "2020-10-04T07:05:02.219908Z",
     "start_time": "2020-10-04T07:05:02.037855Z"
    },
    "scrolled": false
   },
   "outputs": [],
   "source": [
    "df = pd.read_csv('dataset_2.csv')"
   ]
  },
  {
   "cell_type": "code",
   "execution_count": 3,
   "metadata": {
    "ExecuteTime": {
     "end_time": "2020-10-04T07:05:02.477905Z",
     "start_time": "2020-10-04T07:05:02.245364Z"
    },
    "scrolled": false
   },
   "outputs": [],
   "source": [
    "df['target'] = encode_column(df['target'])\n",
    "cols = len(df.columns) - 1"
   ]
  },
  {
   "cell_type": "code",
   "execution_count": 4,
   "metadata": {
    "ExecuteTime": {
     "end_time": "2020-10-04T07:05:02.612858Z",
     "start_time": "2020-10-04T07:05:02.554269Z"
    },
    "scrolled": true
   },
   "outputs": [],
   "source": [
    "train, test, validate = split_dataset(df)"
   ]
  },
  {
   "cell_type": "code",
   "execution_count": 5,
   "metadata": {
    "ExecuteTime": {
     "end_time": "2020-10-04T07:05:02.636459Z",
     "start_time": "2020-10-04T07:05:02.623980Z"
    },
    "scrolled": false
   },
   "outputs": [],
   "source": [
    "train_X = train[:, :-1]\n",
    "train_y = train[:, -1].astype(int)"
   ]
  },
  {
   "cell_type": "code",
   "execution_count": 6,
   "metadata": {
    "ExecuteTime": {
     "end_time": "2020-10-04T07:05:02.653952Z",
     "start_time": "2020-10-04T07:05:02.645167Z"
    },
    "scrolled": false
   },
   "outputs": [],
   "source": [
    "test_X = test[:, :-1]\n",
    "test_y = test[:, -1].astype(int)"
   ]
  },
  {
   "cell_type": "code",
   "execution_count": 7,
   "metadata": {
    "ExecuteTime": {
     "end_time": "2020-10-04T07:05:02.682798Z",
     "start_time": "2020-10-04T07:05:02.674052Z"
    },
    "scrolled": false
   },
   "outputs": [],
   "source": [
    "validate_X = validate[:, :-1]\n",
    "validate_y = validate[:, -1].astype(int)"
   ]
  },
  {
   "cell_type": "markdown",
   "metadata": {},
   "source": [
    "### Model options"
   ]
  },
  {
   "cell_type": "code",
   "execution_count": 48,
   "metadata": {
    "ExecuteTime": {
     "end_time": "2020-10-04T10:03:34.196313Z",
     "start_time": "2020-10-04T10:03:34.083048Z"
    },
    "scrolled": false
   },
   "outputs": [],
   "source": [
    "model = Sequential([\n",
    "    Dense(units=120, input_shape=(cols,)),\n",
    "    LeakyReLU(alpha=0.1),\n",
    "    Dense(units=200),\n",
    "    LeakyReLU(alpha=0.1),\n",
    "    Dense(units=100),\n",
    "    LeakyReLU(alpha=0.1),\n",
    "    Dense(units=60),\n",
    "    LeakyReLU(alpha=0.1),\n",
    "    Dense(units=5, activation='softmax')\n",
    "])"
   ]
  },
  {
   "cell_type": "code",
   "execution_count": 49,
   "metadata": {
    "ExecuteTime": {
     "end_time": "2020-10-04T10:03:34.564854Z",
     "start_time": "2020-10-04T10:03:34.528162Z"
    },
    "scrolled": false
   },
   "outputs": [],
   "source": [
    "sce = SparseCategoricalCrossentropy()\n",
    "adam = Adam(learning_rate=0.0001)\n",
    "model.compile(optimizer=adam, loss=sce, metrics=['accuracy'])"
   ]
  },
  {
   "cell_type": "code",
   "execution_count": null,
   "metadata": {
    "ExecuteTime": {
     "end_time": "2020-10-04T10:22:02.714799Z",
     "start_time": "2020-10-04T10:18:53.305994Z"
    },
    "scrolled": true
   },
   "outputs": [],
   "source": [
    "model.fit(x=train_X, y=train_y, epochs=1100, verbose=2, validation_data=(validate_X, validate_y))"
   ]
  },
  {
   "cell_type": "markdown",
   "metadata": {
    "ExecuteTime": {
     "end_time": "2020-10-04T10:22:38.299015Z",
     "start_time": "2020-10-04T10:22:36.423106Z"
    },
    "scrolled": true
   },
   "source": [
    "model.save('model')"
   ]
  },
  {
   "cell_type": "code",
   "execution_count": 57,
   "metadata": {
    "ExecuteTime": {
     "end_time": "2020-10-04T10:22:05.279360Z",
     "start_time": "2020-10-04T10:22:05.157594Z"
    },
    "scrolled": false
   },
   "outputs": [
    {
     "name": "stdout",
     "output_type": "stream",
     "text": [
      "24/24 [==============================] - 0s 3ms/step - loss: 1.1845 - accuracy: 0.8997\n"
     ]
    },
    {
     "data": {
      "text/plain": [
       "[1.1845015287399292, 0.8997290134429932]"
      ]
     },
     "execution_count": 57,
     "metadata": {},
     "output_type": "execute_result"
    }
   ],
   "source": [
    "model.evaluate(test_X, test_y)"
   ]
  }
 ],
 "metadata": {
  "kernelspec": {
   "display_name": "Python 3",
   "language": "python",
   "name": "python3"
  },
  "language_info": {
   "codemirror_mode": {
    "name": "ipython",
    "version": 3
   },
   "file_extension": ".py",
   "mimetype": "text/x-python",
   "name": "python",
   "nbconvert_exporter": "python",
   "pygments_lexer": "ipython3",
   "version": "3.8.5"
  }
 },
 "nbformat": 4,
 "nbformat_minor": 4
}
