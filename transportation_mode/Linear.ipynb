{
 "cells": [
  {
   "cell_type": "code",
   "execution_count": 1,
   "metadata": {
    "ExecuteTime": {
     "end_time": "2020-10-04T15:20:53.076184Z",
     "start_time": "2020-10-04T15:20:46.617291Z"
    },
    "scrolled": false
   },
   "outputs": [],
   "source": [
    "import numpy as np\n",
    "import pandas as pd\n",
    "from tensorflow.keras.layers import Activation, Dense, LeakyReLU\n",
    "from tensorflow.keras.losses import SparseCategoricalCrossentropy\n",
    "from tensorflow.keras.models import Sequential\n",
    "from tensorflow.keras.optimizers import Adam\n",
    "\n",
    "from utils import decode_output, encode_column, split_dataset"
   ]
  },
  {
   "cell_type": "code",
   "execution_count": 2,
   "metadata": {
    "ExecuteTime": {
     "end_time": "2020-10-04T15:20:53.149425Z",
     "start_time": "2020-10-04T15:20:53.079105Z"
    },
    "scrolled": false
   },
   "outputs": [],
   "source": [
    "df = pd.read_csv('dataset_2.csv')"
   ]
  },
  {
   "cell_type": "code",
   "execution_count": 3,
   "metadata": {
    "ExecuteTime": {
     "end_time": "2020-10-04T15:20:53.164282Z",
     "start_time": "2020-10-04T15:20:53.154384Z"
    },
    "scrolled": false
   },
   "outputs": [],
   "source": [
    "df['target'] = encode_column(df['target'])\n",
    "cols = len(df.columns) - 1"
   ]
  },
  {
   "cell_type": "code",
   "execution_count": 4,
   "metadata": {
    "ExecuteTime": {
     "end_time": "2020-10-04T15:20:53.175718Z",
     "start_time": "2020-10-04T15:20:53.168729Z"
    },
    "scrolled": true
   },
   "outputs": [],
   "source": [
    "train, test, validate = split_dataset(df)"
   ]
  },
  {
   "cell_type": "code",
   "execution_count": 5,
   "metadata": {
    "ExecuteTime": {
     "end_time": "2020-10-04T15:20:53.189111Z",
     "start_time": "2020-10-04T15:20:53.179063Z"
    },
    "scrolled": false
   },
   "outputs": [],
   "source": [
    "train_X = train[:, :-1]\n",
    "train_y = train[:, -1].astype(int)"
   ]
  },
  {
   "cell_type": "code",
   "execution_count": 6,
   "metadata": {
    "ExecuteTime": {
     "end_time": "2020-10-04T15:20:53.201773Z",
     "start_time": "2020-10-04T15:20:53.194888Z"
    },
    "scrolled": false
   },
   "outputs": [],
   "source": [
    "test_X = test[:, :-1]\n",
    "test_y = test[:, -1].astype(int)"
   ]
  },
  {
   "cell_type": "code",
   "execution_count": 7,
   "metadata": {
    "ExecuteTime": {
     "end_time": "2020-10-04T15:20:53.213722Z",
     "start_time": "2020-10-04T15:20:53.207098Z"
    },
    "scrolled": false
   },
   "outputs": [],
   "source": [
    "validate_X = validate[:, :-1]\n",
    "validate_y = validate[:, -1].astype(int)"
   ]
  },
  {
   "cell_type": "markdown",
   "metadata": {},
   "source": [
    "### Model options"
   ]
  },
  {
   "cell_type": "code",
   "execution_count": 8,
   "metadata": {
    "ExecuteTime": {
     "end_time": "2020-10-04T15:20:53.348532Z",
     "start_time": "2020-10-04T15:20:53.217481Z"
    },
    "scrolled": true
   },
   "outputs": [],
   "source": [
    "model = Sequential([\n",
    "    Dense(units=120, input_shape=(cols,)),\n",
    "    LeakyReLU(alpha=0.1),\n",
    "    Dense(units=200),\n",
    "    LeakyReLU(alpha=0.1),\n",
    "    Dense(units=100),\n",
    "    LeakyReLU(alpha=0.1),\n",
    "    Dense(units=60),\n",
    "    LeakyReLU(alpha=0.1),\n",
    "    Dense(units=5, activation='softmax')\n",
    "])"
   ]
  },
  {
   "cell_type": "code",
   "execution_count": 9,
   "metadata": {
    "ExecuteTime": {
     "end_time": "2020-10-04T15:20:53.370957Z",
     "start_time": "2020-10-04T15:20:53.351469Z"
    },
    "scrolled": false
   },
   "outputs": [],
   "source": [
    "sce = SparseCategoricalCrossentropy()\n",
    "adam = Adam(learning_rate=0.0001)\n",
    "model.compile(optimizer=adam, loss=sce, metrics=['accuracy'])"
   ]
  },
  {
   "cell_type": "code",
   "execution_count": null,
   "metadata": {
    "ExecuteTime": {
     "end_time": "2020-10-04T15:37:42.255692Z",
     "start_time": "2020-10-04T15:33:36.641681Z"
    },
    "scrolled": true
   },
   "outputs": [],
   "source": [
    "model.fit(x=train_X, y=train_y, epochs=1400, verbose=2, validation_data=(validate_X, validate_y))"
   ]
  },
  {
   "cell_type": "code",
   "execution_count": 15,
   "metadata": {
    "ExecuteTime": {
     "end_time": "2020-10-04T16:36:02.523788Z",
     "start_time": "2020-10-04T16:36:01.438547Z"
    },
    "scrolled": true
   },
   "outputs": [
    {
     "name": "stdout",
     "output_type": "stream",
     "text": [
      "INFO:tensorflow:Assets written to: models/linear/assets\n"
     ]
    }
   ],
   "source": [
    "model.save('models/linear')"
   ]
  },
  {
   "cell_type": "code",
   "execution_count": 13,
   "metadata": {
    "ExecuteTime": {
     "end_time": "2020-10-04T15:37:44.473152Z",
     "start_time": "2020-10-04T15:37:44.365430Z"
    },
    "scrolled": false
   },
   "outputs": [
    {
     "name": "stdout",
     "output_type": "stream",
     "text": [
      "24/24 [==============================] - 0s 2ms/step - loss: 1.1558 - accuracy: 0.8902\n"
     ]
    },
    {
     "data": {
      "text/plain": [
       "[1.1558226346969604, 0.8902438879013062]"
      ]
     },
     "execution_count": 13,
     "metadata": {},
     "output_type": "execute_result"
    }
   ],
   "source": [
    "model.evaluate(test_X, test_y)"
   ]
  },
  {
   "cell_type": "code",
   "execution_count": null,
   "metadata": {},
   "outputs": [],
   "source": []
  }
 ],
 "metadata": {
  "kernelspec": {
   "display_name": "Python 3",
   "language": "python",
   "name": "python3"
  },
  "language_info": {
   "codemirror_mode": {
    "name": "ipython",
    "version": 3
   },
   "file_extension": ".py",
   "mimetype": "text/x-python",
   "name": "python",
   "nbconvert_exporter": "python",
   "pygments_lexer": "ipython3",
   "version": "3.8.5"
  }
 },
 "nbformat": 4,
 "nbformat_minor": 4
}
