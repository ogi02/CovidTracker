{
 "cells": [
  {
   "cell_type": "code",
   "execution_count": 19,
   "metadata": {
    "ExecuteTime": {
     "end_time": "2020-10-04T15:22:12.744642Z",
     "start_time": "2020-10-04T15:22:12.737519Z"
    }
   },
   "outputs": [],
   "source": [
    "import xgboost as xgb\n",
    "import pandas as pd\n",
    "from sklearn.metrics import accuracy_score\n",
    "\n",
    "from utils import decode_output, encode_column, split_dataset"
   ]
  },
  {
   "cell_type": "code",
   "execution_count": 2,
   "metadata": {
    "ExecuteTime": {
     "end_time": "2020-10-04T14:57:18.583519Z",
     "start_time": "2020-10-04T14:57:18.418707Z"
    }
   },
   "outputs": [],
   "source": [
    "df = pd.read_csv('dataset_2.csv')\n",
    "df['target'] = encode_column(df['target'])\n",
    "cols = len(df.columns) - 1"
   ]
  },
  {
   "cell_type": "code",
   "execution_count": 3,
   "metadata": {
    "ExecuteTime": {
     "end_time": "2020-10-04T14:57:18.610933Z",
     "start_time": "2020-10-04T14:57:18.589642Z"
    }
   },
   "outputs": [],
   "source": [
    "train, test, validate = split_dataset(df)"
   ]
  },
  {
   "cell_type": "code",
   "execution_count": 4,
   "metadata": {
    "ExecuteTime": {
     "end_time": "2020-10-04T14:57:18.645882Z",
     "start_time": "2020-10-04T14:57:18.622872Z"
    }
   },
   "outputs": [],
   "source": [
    "train_X = train[:, :-1]\n",
    "train_y = train[:, -1].astype(int)\n",
    "\n",
    "test_X = test[:, :-1]\n",
    "test_y = test[:, -1].astype(int)\n",
    "\n",
    "validate_X = validate[:, :-1]\n",
    "validate_y = validate[:, -1].astype(int)"
   ]
  },
  {
   "cell_type": "markdown",
   "metadata": {},
   "source": [
    "## Model options"
   ]
  },
  {
   "cell_type": "code",
   "execution_count": 5,
   "metadata": {
    "ExecuteTime": {
     "end_time": "2020-10-04T14:57:18.674483Z",
     "start_time": "2020-10-04T14:57:18.664269Z"
    }
   },
   "outputs": [],
   "source": [
    "clf = xgb.XGBClassifier(n_jobs=-1, n_estimators=500)"
   ]
  },
  {
   "cell_type": "code",
   "execution_count": null,
   "metadata": {
    "ExecuteTime": {
     "end_time": "2020-10-04T14:58:36.461280Z",
     "start_time": "2020-10-04T14:57:18.700487Z"
    },
    "scrolled": true
   },
   "outputs": [],
   "source": [
    "clf.fit(train_X, train_y, eval_set=[(train_X, train_y), (test_X, test_y)], eval_metric='mlogloss', verbose=True)"
   ]
  },
  {
   "cell_type": "code",
   "execution_count": 20,
   "metadata": {
    "ExecuteTime": {
     "end_time": "2020-10-04T15:22:28.035745Z",
     "start_time": "2020-10-04T15:22:27.858764Z"
    }
   },
   "outputs": [],
   "source": [
    "predictions = clf.predict(test_X)"
   ]
  },
  {
   "cell_type": "code",
   "execution_count": 21,
   "metadata": {
    "ExecuteTime": {
     "end_time": "2020-10-04T15:22:35.343276Z",
     "start_time": "2020-10-04T15:22:35.321385Z"
    }
   },
   "outputs": [
    {
     "data": {
      "text/plain": [
       "0.9334239130434783"
      ]
     },
     "execution_count": 21,
     "metadata": {},
     "output_type": "execute_result"
    }
   ],
   "source": [
    "accuracy_score(predictions, test_y)"
   ]
  },
  {
   "cell_type": "code",
   "execution_count": 39,
   "metadata": {
    "ExecuteTime": {
     "end_time": "2020-10-04T16:00:10.548815Z",
     "start_time": "2020-10-04T16:00:10.520462Z"
    },
    "scrolled": true
   },
   "outputs": [],
   "source": [
    "clf.save_model('models/xgb.dat')"
   ]
  },
  {
   "cell_type": "code",
   "execution_count": 29,
   "metadata": {
    "ExecuteTime": {
     "end_time": "2020-10-04T15:26:32.697091Z",
     "start_time": "2020-10-04T15:26:32.691351Z"
    }
   },
   "outputs": [],
   "source": [
    "xgb_NN = xgb.XGBClassifier()"
   ]
  },
  {
   "cell_type": "code",
   "execution_count": 36,
   "metadata": {
    "ExecuteTime": {
     "end_time": "2020-10-04T15:59:42.458579Z",
     "start_time": "2020-10-04T15:59:42.441612Z"
    }
   },
   "outputs": [],
   "source": [
    "xgb_NN.load_model('xgb.dat')"
   ]
  },
  {
   "cell_type": "code",
   "execution_count": 31,
   "metadata": {
    "ExecuteTime": {
     "end_time": "2020-10-04T15:27:02.575404Z",
     "start_time": "2020-10-04T15:27:02.292223Z"
    }
   },
   "outputs": [
    {
     "data": {
      "text/plain": [
       "0.9334239130434783"
      ]
     },
     "execution_count": 31,
     "metadata": {},
     "output_type": "execute_result"
    }
   ],
   "source": [
    "accuracy_score(xgb_NN.predict(test_X), test_y)"
   ]
  },
  {
   "cell_type": "code",
   "execution_count": null,
   "metadata": {},
   "outputs": [],
   "source": []
  }
 ],
 "metadata": {
  "kernelspec": {
   "display_name": "Python 3",
   "language": "python",
   "name": "python3"
  },
  "language_info": {
   "codemirror_mode": {
    "name": "ipython",
    "version": 3
   },
   "file_extension": ".py",
   "mimetype": "text/x-python",
   "name": "python",
   "nbconvert_exporter": "python",
   "pygments_lexer": "ipython3",
   "version": "3.8.5"
  }
 },
 "nbformat": 4,
 "nbformat_minor": 4
}
