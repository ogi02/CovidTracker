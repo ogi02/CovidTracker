{
 "cells": [
  {
   "cell_type": "code",
   "execution_count": 1,
   "metadata": {
    "ExecuteTime": {
     "end_time": "2020-10-04T21:12:52.601631Z",
     "start_time": "2020-10-04T21:12:51.781921Z"
    }
   },
   "outputs": [],
   "source": [
    "from pandas import read_csv\n",
    "from numpy import array\n",
    "from scipy.stats import randint\n",
    "from utils import encode_column, split_dataset"
   ]
  },
  {
   "cell_type": "code",
   "execution_count": 2,
   "metadata": {
    "ExecuteTime": {
     "end_time": "2020-10-04T21:12:53.128320Z",
     "start_time": "2020-10-04T21:12:52.604388Z"
    }
   },
   "outputs": [],
   "source": [
    "from sklearn.metrics import accuracy_score\n",
    "from sklearn.model_selection import RandomizedSearchCV\n",
    "\n",
    "import xgboost as xgb"
   ]
  },
  {
   "cell_type": "code",
   "execution_count": 3,
   "metadata": {
    "ExecuteTime": {
     "end_time": "2020-10-04T21:12:53.272182Z",
     "start_time": "2020-10-04T21:12:53.138230Z"
    }
   },
   "outputs": [],
   "source": [
    "df = read_csv('dataset_2.csv')\n",
    "X = array(df.drop(columns='target'))\n",
    "y = array(encode_column(df['target']))"
   ]
  },
  {
   "cell_type": "markdown",
   "metadata": {},
   "source": [
    "## Model options"
   ]
  },
  {
   "cell_type": "code",
   "execution_count": 4,
   "metadata": {
    "ExecuteTime": {
     "end_time": "2020-10-04T21:12:53.296519Z",
     "start_time": "2020-10-04T21:12:53.283183Z"
    }
   },
   "outputs": [],
   "source": [
    "xgb = xgb.XGBClassifier(n_jobs=-1, n_estimators=734)"
   ]
  },
  {
   "cell_type": "markdown",
   "metadata": {
    "ExecuteTime": {
     "end_time": "2020-10-04T20:39:38.361827Z",
     "start_time": "2020-10-04T20:39:38.354162Z"
    }
   },
   "source": [
    "distributions = dict(n_estimators=randint(50, 1000))"
   ]
  },
  {
   "cell_type": "markdown",
   "metadata": {
    "ExecuteTime": {
     "end_time": "2020-10-04T20:39:38.686218Z",
     "start_time": "2020-10-04T20:39:38.671836Z"
    }
   },
   "source": [
    "clf = RandomizedSearchCV(xgb, distributions, random_state=0)"
   ]
  },
  {
   "cell_type": "markdown",
   "metadata": {
    "ExecuteTime": {
     "end_time": "2020-10-04T21:00:11.070601Z",
     "start_time": "2020-10-04T20:39:39.011545Z"
    },
    "scrolled": true
   },
   "source": [
    "clf.fit(train_X, train_y)"
   ]
  },
  {
   "cell_type": "markdown",
   "metadata": {
    "ExecuteTime": {
     "end_time": "2020-10-04T21:02:31.499329Z",
     "start_time": "2020-10-04T21:02:31.489399Z"
    }
   },
   "source": [
    "clf.best_params_"
   ]
  },
  {
   "cell_type": "code",
   "execution_count": 6,
   "metadata": {
    "ExecuteTime": {
     "end_time": "2020-10-04T21:14:06.592904Z",
     "start_time": "2020-10-04T21:13:16.329795Z"
    },
    "scrolled": true
   },
   "outputs": [
    {
     "data": {
      "text/plain": [
       "XGBClassifier(base_score=0.5, booster='gbtree', colsample_bylevel=1,\n",
       "              colsample_bynode=1, colsample_bytree=1, gamma=0, gpu_id=-1,\n",
       "              importance_type='gain', interaction_constraints='',\n",
       "              learning_rate=0.300000012, max_delta_step=0, max_depth=6,\n",
       "              min_child_weight=1, missing=nan, monotone_constraints='()',\n",
       "              n_estimators=734, n_jobs=-1, num_parallel_tree=1,\n",
       "              objective='multi:softprob', random_state=0, reg_alpha=0,\n",
       "              reg_lambda=1, scale_pos_weight=None, subsample=1,\n",
       "              tree_method='exact', validate_parameters=1, verbosity=None)"
      ]
     },
     "execution_count": 6,
     "metadata": {},
     "output_type": "execute_result"
    }
   ],
   "source": [
    "xgb.fit(X, y)"
   ]
  },
  {
   "cell_type": "markdown",
   "metadata": {
    "ExecuteTime": {
     "end_time": "2020-10-04T21:12:53.572399Z",
     "start_time": "2020-10-04T21:12:51.798Z"
    }
   },
   "source": [
    "predictions = xgb.predict(test_X)"
   ]
  },
  {
   "cell_type": "markdown",
   "metadata": {
    "ExecuteTime": {
     "end_time": "2020-10-04T21:12:53.574363Z",
     "start_time": "2020-10-04T21:12:51.801Z"
    }
   },
   "source": [
    "accuracy_score(predictions, test_y)"
   ]
  },
  {
   "cell_type": "code",
   "execution_count": 8,
   "metadata": {
    "ExecuteTime": {
     "end_time": "2020-10-04T21:14:43.169286Z",
     "start_time": "2020-10-04T21:14:43.146108Z"
    },
    "scrolled": true
   },
   "outputs": [],
   "source": [
    "xgb.save_model('xgb.dat')"
   ]
  },
  {
   "cell_type": "code",
   "execution_count": null,
   "metadata": {},
   "outputs": [],
   "source": []
  }
 ],
 "metadata": {
  "kernelspec": {
   "display_name": "Python 3",
   "language": "python",
   "name": "python3"
  },
  "language_info": {
   "codemirror_mode": {
    "name": "ipython",
    "version": 3
   },
   "file_extension": ".py",
   "mimetype": "text/x-python",
   "name": "python",
   "nbconvert_exporter": "python",
   "pygments_lexer": "ipython3",
   "version": "3.8.5"
  }
 },
 "nbformat": 4,
 "nbformat_minor": 4
}
