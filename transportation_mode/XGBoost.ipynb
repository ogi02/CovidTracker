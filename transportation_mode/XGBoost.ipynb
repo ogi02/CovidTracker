{
 "cells": [
  {
   "cell_type": "code",
   "execution_count": 1,
   "metadata": {
    "ExecuteTime": {
     "end_time": "2020-10-04T22:23:36.414631Z",
     "start_time": "2020-10-04T22:23:35.494541Z"
    }
   },
   "outputs": [],
   "source": [
    "from pandas import read_csv\n",
    "from numpy import array\n",
    "from scipy.stats import randint\n",
    "from utils import encode_column, split_dataset"
   ]
  },
  {
   "cell_type": "code",
   "execution_count": 2,
   "metadata": {
    "ExecuteTime": {
     "end_time": "2020-10-04T22:23:36.751963Z",
     "start_time": "2020-10-04T22:23:36.419276Z"
    }
   },
   "outputs": [],
   "source": [
    "from sklearn.metrics import accuracy_score\n",
    "from sklearn.model_selection import RandomizedSearchCV\n",
    "\n",
    "import xgboost as xgb"
   ]
  },
  {
   "cell_type": "code",
   "execution_count": 15,
   "metadata": {
    "ExecuteTime": {
     "end_time": "2020-10-04T22:25:18.420824Z",
     "start_time": "2020-10-04T22:25:18.344012Z"
    }
   },
   "outputs": [],
   "source": [
    "df = read_csv('dataset_2.csv')\n",
    "df['target'] = encode_column(df['target'])\n",
    "y = array(df['target'])\n",
    "X = array(df)[:, :-1]"
   ]
  },
  {
   "cell_type": "markdown",
   "metadata": {},
   "source": [
    "## Model options"
   ]
  },
  {
   "cell_type": "markdown",
   "metadata": {
    "ExecuteTime": {
     "end_time": "2020-10-04T22:06:03.459353Z",
     "start_time": "2020-10-04T22:06:03.451501Z"
    }
   },
   "source": [
    "xgboost = xgb.XGBClassifier(n_jobs=-1)"
   ]
  },
  {
   "cell_type": "markdown",
   "metadata": {
    "ExecuteTime": {
     "end_time": "2020-10-04T22:06:03.713949Z",
     "start_time": "2020-10-04T22:06:03.700515Z"
    }
   },
   "source": [
    "distributions = dict(n_estimators=randint(50, 1000), max_depth=randint(5, 200))"
   ]
  },
  {
   "cell_type": "markdown",
   "metadata": {
    "ExecuteTime": {
     "end_time": "2020-10-04T22:06:03.891220Z",
     "start_time": "2020-10-04T22:06:03.882190Z"
    }
   },
   "source": [
    "clf = RandomizedSearchCV(xgboost, distributions, random_state=0, n_jobs=-1, refit=True)"
   ]
  },
  {
   "cell_type": "markdown",
   "metadata": {
    "ExecuteTime": {
     "end_time": "2020-10-04T22:15:15.793310Z",
     "start_time": "2020-10-04T22:06:04.046763Z"
    }
   },
   "source": [
    "clf.fit(train_X, train_y)"
   ]
  },
  {
   "cell_type": "markdown",
   "metadata": {
    "ExecuteTime": {
     "end_time": "2020-10-04T22:15:15.805488Z",
     "start_time": "2020-10-04T22:15:15.797627Z"
    }
   },
   "source": [
    "clf.best_params_"
   ]
  },
  {
   "cell_type": "code",
   "execution_count": 16,
   "metadata": {
    "ExecuteTime": {
     "end_time": "2020-10-04T22:25:23.011767Z",
     "start_time": "2020-10-04T22:25:23.006439Z"
    }
   },
   "outputs": [],
   "source": [
    "best_xgb = xgb.XGBClassifier(max_depth=63, n_estimators=755, n_jobs=-1)"
   ]
  },
  {
   "cell_type": "code",
   "execution_count": 17,
   "metadata": {
    "ExecuteTime": {
     "end_time": "2020-10-04T22:26:10.973446Z",
     "start_time": "2020-10-04T22:25:25.201896Z"
    },
    "scrolled": true
   },
   "outputs": [
    {
     "data": {
      "text/plain": [
       "XGBClassifier(base_score=0.5, booster='gbtree', colsample_bylevel=1,\n",
       "              colsample_bynode=1, colsample_bytree=1, gamma=0, gpu_id=-1,\n",
       "              importance_type='gain', interaction_constraints='',\n",
       "              learning_rate=0.300000012, max_delta_step=0, max_depth=63,\n",
       "              min_child_weight=1, missing=nan, monotone_constraints='()',\n",
       "              n_estimators=755, n_jobs=-1, num_parallel_tree=1,\n",
       "              objective='multi:softprob', random_state=0, reg_alpha=0,\n",
       "              reg_lambda=1, scale_pos_weight=None, subsample=1,\n",
       "              tree_method='exact', validate_parameters=1, verbosity=None)"
      ]
     },
     "execution_count": 17,
     "metadata": {},
     "output_type": "execute_result"
    }
   ],
   "source": [
    "best_xgb.fit(X, y)"
   ]
  },
  {
   "cell_type": "code",
   "execution_count": 19,
   "metadata": {
    "ExecuteTime": {
     "end_time": "2020-10-04T22:26:44.694749Z",
     "start_time": "2020-10-04T22:26:44.679955Z"
    }
   },
   "outputs": [],
   "source": [
    "best_xgb.save_model('xgb.dat')"
   ]
  }
 ],
 "metadata": {
  "kernelspec": {
   "display_name": "Python 3",
   "language": "python",
   "name": "python3"
  },
  "language_info": {
   "codemirror_mode": {
    "name": "ipython",
    "version": 3
   },
   "file_extension": ".py",
   "mimetype": "text/x-python",
   "name": "python",
   "nbconvert_exporter": "python",
   "pygments_lexer": "ipython3",
   "version": "3.8.5"
  }
 },
 "nbformat": 4,
 "nbformat_minor": 4
}
